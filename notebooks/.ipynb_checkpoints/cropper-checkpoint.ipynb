{
 "cells": [
  {
   "cell_type": "code",
   "execution_count": 68,
   "metadata": {},
   "outputs": [],
   "source": [
    "import cv2\n",
    "import os\n",
    "import json"
   ]
  },
  {
   "cell_type": "code",
   "execution_count": 69,
   "metadata": {},
   "outputs": [],
   "source": [
    "def load_image(path):\n",
    "    \"\"\"\n",
    "    Loads an image into memory as cv2 image object.\n",
    "    \n",
    "    :param path: String of path to image.\n",
    "    :return: cv2 object of image.\n",
    "    \"\"\"\n",
    "    return cv2.imread(path)"
   ]
  },
  {
   "cell_type": "code",
   "execution_count": 70,
   "metadata": {},
   "outputs": [],
   "source": [
    "def save_image(image, output_directory, filename):\n",
    "    \"\"\"\n",
    "    Saves an image.\n",
    "    \n",
    "    :param image: The image to save.\n",
    "    :param output_path: The directory to write the file to. \n",
    "    :param filename: The filename of the output image.\n",
    "    \"\"\"\n",
    "    path = os.path.join(output_directory, filename)\n",
    "    cv2.imwrite(path, image)"
   ]
  },
  {
   "cell_type": "code",
   "execution_count": 71,
   "metadata": {},
   "outputs": [],
   "source": [
    "def crop_image(image, x, y, width, height):\n",
    "    \"\"\"\n",
    "    Crops an image to a rectangle.\n",
    "    \n",
    "    :param x: The x-coordinate of the bounding box to crop.\n",
    "    :param y: The y-coordinate of the bounding box to crop.\n",
    "    :param width: The width of the box to crop.\n",
    "    :param height: The height of the box to crop.\n",
    "    :return: The cropped image.\n",
    "    \"\"\"\n",
    "    return image[y:y+height, x:x+width]"
   ]
  },
  {
   "cell_type": "code",
   "execution_count": 72,
   "metadata": {},
   "outputs": [],
   "source": [
    "def load_json(json_file_path):\n",
    "    \"\"\"\n",
    "    Loads a json file\n",
    "    \n",
    "    :param via_json_file_path: The path to the json file.\n",
    "    :return: The loaded json file object.\n",
    "    \"\"\"\n",
    "    with open(json_file_path) as file:\n",
    "        return json.load(file)"
   ]
  },
  {
   "cell_type": "code",
   "execution_count": 73,
   "metadata": {},
   "outputs": [],
   "source": [
    "def get_filename_and_regions_from_via_json(via_json_file_path):\n",
    "    \"\"\"\n",
    "    Parses the output via json to get a dictionary where they key is the filename and the value is an array of\n",
    "    json objects that describe the the regions to crop.\n",
    "    \n",
    "    :param via_json_file_path: The path to the via json file. \n",
    "    :return: A dictionary where the keys are the filenames and the values are the regions associated with the file.\n",
    "    \"\"\"\n",
    "    json = load_json(via_json_file_path)\n",
    "    image_data_info = json[\"_via_img_metadata\"]\n",
    "    return {image_data_info[entry][\"filename\"]: image_data_info[entry][\"regions\"] for entry in image_data_info}"
   ]
  },
  {
   "cell_type": "code",
   "execution_count": 74,
   "metadata": {},
   "outputs": [],
   "source": [
    "def get_shape(region):\n",
    "    \"\"\"\n",
    "    Takes in a region and gets the shape\n",
    "    \n",
    "    :param region: The region to get the shape of.\n",
    "    :return: The shape of the region.\n",
    "    \"\"\"\n",
    "    return region[\"shape_attributes\"][\"name\"]\n",
    "    "
   ]
  },
  {
   "cell_type": "code",
   "execution_count": 75,
   "metadata": {},
   "outputs": [],
   "source": [
    "def get_rect_bbox(region):\n",
    "    \"\"\"\n",
    "    Gets the bounding box of a region.\n",
    "    \n",
    "    :param region: The region to get the bounding box of.\n",
    "    :return: List in the form [x, y, width, height] defining a rectangle.\n",
    "    \"\"\"\n",
    "    shape_attributes = region[\"shape_attributes\"]\n",
    "    if get_shape(region) == \"rect\":\n",
    "        bbox = [shape_attributes[\"x\"], \n",
    "                shape_attributes[\"y\"], \n",
    "                shape_attributes[\"width\"], \n",
    "                shape_attributes[\"height\"]]\n",
    "        \n",
    "        # doing it this way instead of using min in case have to find\n",
    "        # these small mistakes later.\n",
    "        for i, val in enumerate(bbox):\n",
    "            if val < 0:\n",
    "                bbox[i] = 0\n",
    "        \n",
    "        return bbox\n",
    "    else:\n",
    "        return None"
   ]
  },
  {
   "cell_type": "code",
   "execution_count": 76,
   "metadata": {},
   "outputs": [],
   "source": [
    "def get_region_type(region):\n",
    "    \"\"\"\n",
    "    Gets the type of the region.\n",
    "    \n",
    "    :param region: The region to get the type of.\n",
    "    :return: The type of the region.\n",
    "    \"\"\"\n",
    "    if \"type\" in region[\"region_attributes\"]:\n",
    "        region_type = region[\"region_attributes\"][\"type\"]\n",
    "        if type(region_type) == type(dict()):\n",
    "            for key, value in region_type.items():\n",
    "                if value:\n",
    "                    return key\n",
    "        else:\n",
    "            return region_type\n",
    "    else:\n",
    "        return None"
   ]
  },
  {
   "cell_type": "code",
   "execution_count": 77,
   "metadata": {},
   "outputs": [],
   "source": [
    "def create_directory_name_from_filename(filename):\n",
    "    \"\"\"\n",
    "    Creates a directory name from a filename.\n",
    "    \n",
    "    :param filename: The name of the file to use to create a directory name from.\n",
    "    :return: Directory name.\n",
    "    \"\"\"\n",
    "    return filename.split(\".\")[0]"
   ]
  },
  {
   "cell_type": "code",
   "execution_count": 78,
   "metadata": {},
   "outputs": [],
   "source": [
    "def create_directory(path, directory_name):\n",
    "    \"\"\"\n",
    "    Creates a directory if it doesn't already exist\n",
    "    \n",
    "    :param path: The folder the directory will be made in.\n",
    "    :param directory_name: The name of the directory to make.\n",
    "    :return: The filepath to the directory.\n",
    "    \"\"\"\n",
    "    cleaned_directory_name = clean_directory_name(directory_name)\n",
    "    full_path = os.path.join(path, cleaned_directory_name)\n",
    "    if not os.path.exists(full_path):\n",
    "        os.makedirs(full_path)\n",
    "    \n",
    "    return full_path\n",
    "    "
   ]
  },
  {
   "cell_type": "code",
   "execution_count": 79,
   "metadata": {},
   "outputs": [],
   "source": [
    "def clean_directory_name(directory_name):\n",
    "    \"\"\"\n",
    "    Cleans a directory name.\n",
    "    \n",
    "    :param directory_name: The directory output name.\n",
    "    :return: The cleaned string.\n",
    "    \"\"\"\n",
    "    cleaned = directory_name.replace(\"/\", \"-\")\n",
    "    cleaned = cleaned.replace(\" \", \"-\")\n",
    "    cleaned = cleaned.lower()\n",
    "    return cleaned"
   ]
  },
  {
   "cell_type": "code",
   "execution_count": 80,
   "metadata": {},
   "outputs": [],
   "source": [
    "def main(via_json_path, image_directory, output_directory, file_name_regions_dict):\n",
    "    \"\"\"\n",
    "    Main entry point for the program.\n",
    "    \n",
    "    :param via_json_path: The path to the json file that describes the regions in the images.\n",
    "    :param image_directory: Directory path which contains the images the json file describes.\n",
    "    :param output_directory: The path to the output directory to write all the data to.\\\n",
    "    :param file_name_regions_dict: A dictionary where the keys are the filenames and the values are a list of regions.\n",
    "    \"\"\"\n",
    "    for filename, regions in file_name_regions_dict.items():\n",
    "        image = load_image(os.path.join(image_directory, filename))\n",
    "        if image is None:\n",
    "            print(\"file {} could not be found\".format(filename))\n",
    "            continue\n",
    "            \n",
    "        current_file_output_directory = create_directory(output_directory, create_directory_name_from_filename(filename))\n",
    "        for i, region in enumerate(regions):\n",
    "            bbox = get_rect_bbox(region)\n",
    "            region_type = get_region_type(region)\n",
    "            if region_type is None:\n",
    "                print(\"file {} had an uncategorized box\".format(filename))\n",
    "                region_type = \"uncategorized\"\n",
    "                \n",
    "            cropped_image = crop_image(image, *bbox)\n",
    "            region_type_output_directory = create_directory(current_file_output_directory, region_type)\n",
    "            save_image(cropped_image, region_type_output_directory, \"{}.jpg\".format(i))"
   ]
  },
  {
   "cell_type": "code",
   "execution_count": 81,
   "metadata": {},
   "outputs": [],
   "source": [
    "IMAGE_DIRECTORY = r\"C:\\Users\\Ethan\\Desktop\\repos\\princeton-bitmoji-project-new\\data\\test-3\"\n",
    "VIA_JSON_PATH = r\"C:\\Users\\Ethan\\Desktop\\repos\\princeton-bitmoji-project-new\\data\\test-3\\Rola Alyssa Andrew Annotations.json\"\n",
    "OUTPUT_DIRECTORY = r\"C:\\Users\\Ethan\\Desktop\\repos\\princeton-bitmoji-project-new\\output\\test-3\""
   ]
  },
  {
   "cell_type": "code",
   "execution_count": 82,
   "metadata": {},
   "outputs": [],
   "source": [
    "file_name_regions_dict = get_filename_and_regions_from_via_json(VIA_JSON_PATH)"
   ]
  },
  {
   "cell_type": "code",
   "execution_count": 83,
   "metadata": {},
   "outputs": [
    {
     "name": "stdout",
     "output_type": "stream",
     "text": [
      "file user2780_3396.jpg had an uncategorized box\n",
      "file user2510_820.jpg had an uncategorized box\n",
      "file user2065_1965.jpg had an uncategorized box\n",
      "file user2068_2592.jpg had an uncategorized box\n",
      "file user2076_3850.jpg had an uncategorized box\n",
      "{'shape_attributes': {'name': 'rect', 'x': 406, 'y': 190, 'width': 140, 'height': 64}, 'region_attributes': {'type': {'Poster/wall hanging': True}}}\n",
      "{'shape_attributes': {'name': 'rect', 'x': 560, 'y': 153, 'width': 282, 'height': 136}, 'region_attributes': {'type': {'Poster/wall hanging': True}}}\n",
      "file user2885_2166.jpg had an uncategorized box\n",
      "file user2914_2187.jpg had an uncategorized box\n",
      "file user2916_2188.jpg had an uncategorized box\n",
      "file user2917_1555.jpg had an uncategorized box\n",
      "file user2922_1558.jpg had an uncategorized box\n",
      "file user2958_155.jpg had an uncategorized box\n",
      "file user2961_951.jpg had an uncategorized box\n",
      "file user2969_157.jpg had an uncategorized box\n",
      "file user2990_194.jpg had an uncategorized box\n",
      "file user1855_4444.jpg had an uncategorized box\n",
      "file user1878_1319.jpg had an uncategorized box\n",
      "file user1910_2546.jpg had an uncategorized box\n",
      "file user1929_686.jpg had an uncategorized box\n",
      "file user1936_4909.jpg had an uncategorized box\n",
      "file user1939_1325.jpg had an uncategorized box\n",
      "file user1441_2440.jpg had an uncategorized box\n",
      "file user1441_2440.jpg had an uncategorized box\n",
      "file user1486_1831.jpg had an uncategorized box\n",
      "file user1501_3083.jpg had an uncategorized box\n",
      "file user669_61.jpg had an uncategorized box\n",
      "file user669_61.jpg had an uncategorized box\n",
      "file user677_2064.jpg had an uncategorized box\n",
      "file user677_2064.jpg had an uncategorized box\n",
      "file user389_3581.jpg had an uncategorized box\n",
      "file user463_498.jpg had an uncategorized box\n",
      "file user468_2992.jpg had an uncategorized box\n",
      "file user64_3484.jpg had an uncategorized box\n",
      "file user64_3484.jpg had an uncategorized box\n",
      "file user81_4081.jpg had an uncategorized box\n",
      "file user2696_3358.jpg had an uncategorized box\n",
      "file user2317_3287.jpg had an uncategorized box\n",
      "file user2317_4542.jpg had an uncategorized box\n",
      "file user2371_60.jpg had an uncategorized box\n",
      "file user2111_1365.jpg had an uncategorized box\n",
      "file user2135_1371.jpg had an uncategorized box\n",
      "file user2152_2620.jpg had an uncategorized box\n",
      "file user2154_1992.jpg had an uncategorized box\n",
      "file user2158_1376.jpg had an uncategorized box\n",
      "file user2174_2628.jpg had an uncategorized box\n",
      "file user1112_3572.jpg had an uncategorized box\n",
      "file user892_4089.jpg had an uncategorized box\n",
      "file user84_1627.jpg had an uncategorized box\n",
      "file user99_310.jpg had an uncategorized box\n",
      "file user106_367.jpg had an uncategorized box\n",
      "file user106_383.jpg had an uncategorized box\n",
      "file user106_401.jpg had an uncategorized box\n",
      "file user126_4201.jpg had an uncategorized box\n"
     ]
    }
   ],
   "source": [
    "main(VIA_JSON_PATH, IMAGE_DIRECTORY, OUTPUT_DIRECTORY, file_name_regions_dict)"
   ]
  }
 ],
 "metadata": {
  "kernelspec": {
   "display_name": "Python [conda env:computer_vision]",
   "language": "python",
   "name": "conda-env-computer_vision-py"
  },
  "language_info": {
   "codemirror_mode": {
    "name": "ipython",
    "version": 3
   },
   "file_extension": ".py",
   "mimetype": "text/x-python",
   "name": "python",
   "nbconvert_exporter": "python",
   "pygments_lexer": "ipython3",
   "version": "3.8.8"
  }
 },
 "nbformat": 4,
 "nbformat_minor": 4
}
