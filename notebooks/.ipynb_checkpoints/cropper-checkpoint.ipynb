{
 "cells": [
  {
   "cell_type": "code",
   "execution_count": null,
   "metadata": {},
   "outputs": [],
   "source": [
    "import cv2\n",
    "import os\n",
    "import json"
   ]
  },
  {
   "cell_type": "code",
   "execution_count": null,
   "metadata": {},
   "outputs": [],
   "source": [
    "def load_image(path):\n",
    "    \"\"\"\n",
    "    Loads an image into memory as cv2 image object.\n",
    "    \n",
    "    :param path: String of path to image.\n",
    "    :return: cv2 object of image.\n",
    "    \"\"\"\n",
    "    return cv2.imread(path)"
   ]
  },
  {
   "cell_type": "code",
   "execution_count": null,
   "metadata": {},
   "outputs": [],
   "source": [
    "def save_image(image, output_directory, filename):\n",
    "    \"\"\"\n",
    "    Saves an image.\n",
    "    \n",
    "    :param image: The image to save.\n",
    "    :param output_path: The directory to write the file to. \n",
    "    :param filename: The filename of the output image.\n",
    "    \"\"\"\n",
    "    path = os.path.join(output_directory, filename)\n",
    "    cv2.imwrite(path, image)"
   ]
  },
  {
   "cell_type": "code",
   "execution_count": null,
   "metadata": {},
   "outputs": [],
   "source": [
    "def crop_image(image, x, y, width, height):\n",
    "    \"\"\"\n",
    "    Crops an image to a rectangle.\n",
    "    \n",
    "    :param x: The x-coordinate of the bounding box to crop.\n",
    "    :param y: The y-coordinate of the bounding box to crop.\n",
    "    :param width: The width of the box to crop.\n",
    "    :param height: The height of the box to crop.\n",
    "    :return: The cropped image.\n",
    "    \"\"\"\n",
    "    return image[y:y+height, x:x+width]"
   ]
  },
  {
   "cell_type": "code",
   "execution_count": null,
   "metadata": {},
   "outputs": [],
   "source": [
    "def load_json(json_file_path):\n",
    "    \"\"\"\n",
    "    Loads a json file\n",
    "    \n",
    "    :param via_json_file_path: The path to the json file.\n",
    "    :return: The loaded json file object.\n",
    "    \"\"\"\n",
    "    with open(json_file_path) as file:\n",
    "        return json.load(file)"
   ]
  },
  {
   "cell_type": "code",
   "execution_count": null,
   "metadata": {},
   "outputs": [],
   "source": [
    "def get_filename_and_regions_from_via_json(via_json_file_path):\n",
    "    \"\"\"\n",
    "    Parses the output via json to get a dictionary where they key is the filename and the value is an array of\n",
    "    json objects that describe the the regions to crop.\n",
    "    \n",
    "    :param via_json_file_path: The path to the via json file. \n",
    "    :return: A dictionary where the keys are the filenames and the values are the regions associated with the file.\n",
    "    \"\"\"\n",
    "    json = load_json(via_json_file_path)\n",
    "    image_data_info = json[\"_via_img_metadata\"]\n",
    "    return {image_data_info[entry][\"filename\"]: image_data_info[entry][\"regions\"] for entry in image_data_info}"
   ]
  },
  {
   "cell_type": "code",
   "execution_count": null,
   "metadata": {},
   "outputs": [],
   "source": [
    "def get_shape(region):\n",
    "    \"\"\"\n",
    "    Takes in a region and gets the shape\n",
    "    \n",
    "    :param region: The region to get the shape of.\n",
    "    :return: The shape of the region.\n",
    "    \"\"\"\n",
    "    return region[\"shape_attributes\"][\"name\"]\n",
    "    "
   ]
  },
  {
   "cell_type": "code",
   "execution_count": null,
   "metadata": {},
   "outputs": [],
   "source": [
    "def get_rect_bbox(region):\n",
    "    \"\"\"\n",
    "    Gets the bounding box of a region.\n",
    "    \n",
    "    :param region: The region to get the bounding box of.\n",
    "    :return: List in the form [x, y, width, height] defining a rectangle.\n",
    "    \"\"\"\n",
    "    shape_attributes = region[\"shape_attributes\"]\n",
    "    if get_shape(region) == \"rect\":\n",
    "        return [shape_attributes[\"x\"], \n",
    "                shape_attributes[\"y\"], \n",
    "                shape_attributes[\"width\"], \n",
    "                shape_attributes[\"height\"]]\n",
    "    else:\n",
    "        return None"
   ]
  },
  {
   "cell_type": "code",
   "execution_count": null,
   "metadata": {},
   "outputs": [],
   "source": [
    "def get_region_type(region):\n",
    "    \"\"\"\n",
    "    Gets the type of the region.\n",
    "    \n",
    "    :param region: The region to get the type of.\n",
    "    :return: The type of the region.\n",
    "    \"\"\"\n",
    "    if \"type\" in region[\"region_attributes\"]:\n",
    "        return region[\"region_attributes\"][\"type\"]\n",
    "    else:\n",
    "        return None"
   ]
  },
  {
   "cell_type": "code",
   "execution_count": null,
   "metadata": {},
   "outputs": [],
   "source": [
    "def create_directory_name_from_filename(filename):\n",
    "    \"\"\"\n",
    "    Creates a directory name from a filename.\n",
    "    \n",
    "    :param filename: The name of the file to use to create a directory name from.\n",
    "    :return: Directory name.\n",
    "    \"\"\"\n",
    "    return filename.split(\".\")[0]"
   ]
  },
  {
   "cell_type": "code",
   "execution_count": null,
   "metadata": {},
   "outputs": [],
   "source": [
    "def create_directory(path, directory_name):\n",
    "    \"\"\"\n",
    "    Creates a directory if it doesn't already exist\n",
    "    \n",
    "    :param path: The folder the directory will be made in.\n",
    "    :param directory_name: The name of the directory to make.\n",
    "    :return: The filepath to the directory.\n",
    "    \"\"\"\n",
    "    cleaned_directory_name = clean_directory_name(directory_name)\n",
    "    full_path = os.path.join(path, cleaned_directory_name)\n",
    "    if not os.path.exists(full_path):\n",
    "        os.makedirs(full_path)\n",
    "    \n",
    "    return full_path\n",
    "    "
   ]
  },
  {
   "cell_type": "code",
   "execution_count": null,
   "metadata": {},
   "outputs": [],
   "source": [
    "def clean_directory_name(directory_name):\n",
    "    \"\"\"\n",
    "    Cleans a directory name.\n",
    "    \n",
    "    :param directory_name: The directory output name.\n",
    "    :return: The cleaned string.\n",
    "    \"\"\"\n",
    "    cleaned = directory_name.replace(\"/\", \"-\")\n",
    "    cleaned = cleaned.replace(\" \", \"-\")\n",
    "    cleaned = cleaned.lower()\n",
    "    return cleaned"
   ]
  },
  {
   "cell_type": "code",
   "execution_count": null,
   "metadata": {},
   "outputs": [],
   "source": [
    "def main(via_json_path, image_directory, output_directory, file_name_regions_dict):\n",
    "    \"\"\"\n",
    "    Main entry point for the program.\n",
    "    \n",
    "    :param via_json_path: The path to the json file that describes the regions in the images.\n",
    "    :param image_directory: Directory path which contains the images the json file describes.\n",
    "    :param output_directory: The path to the output directory to write all the data to.\\\n",
    "    :param file_name_regions_dict: A dictionary where the keys are the filenames and the values are a list of regions.\n",
    "    \"\"\"\n",
    "    for filename, regions in file_name_regions_dict.items():\n",
    "        image = load_image(os.path.join(image_directory, filename))\n",
    "        if image is None:\n",
    "            print(\"file {} could not be found\".format(filename))\n",
    "            continue\n",
    "            \n",
    "        current_file_output_directory = create_directory(output_directory, create_directory_name_from_filename(filename))\n",
    "        for i, region in enumerate(regions):\n",
    "            bbox = get_rect_bbox(region)\n",
    "            region_type = get_region_type(region)\n",
    "            if region_type is None:\n",
    "                print(\"file {} had an uncategorized box\".format(filename))\n",
    "                region_type = \"uncategorized\"\n",
    "                \n",
    "            cropped_image = crop_image(image, *bbox)\n",
    "            region_type_output_directory = create_directory(current_file_output_directory, region_type)\n",
    "            save_image(cropped_image, region_type_output_directory, \"{}.jpg\".format(i))"
   ]
  },
  {
   "cell_type": "code",
   "execution_count": null,
   "metadata": {},
   "outputs": [],
   "source": [
    "DATA_DIRECTORY = \"../data\"\n",
    "IMAGE_DIRECTORY = os.path.join(data_directory, \"test-2\")\n",
    "VIA_JSON_PATH = \"../data/test-2/via_project_23Nov2021_2h12m (1).json\"\n",
    "OUTPUT_DIRECTORY = \"../output/test-2\""
   ]
  },
  {
   "cell_type": "code",
   "execution_count": null,
   "metadata": {},
   "outputs": [],
   "source": [
    "file_name_regions_dict = get_filename_and_regions_from_json(VIA_JSON_PATH)"
   ]
  },
  {
   "cell_type": "code",
   "execution_count": null,
   "metadata": {},
   "outputs": [],
   "source": [
    "main(VIA_JSON_PATH, IMAGE_DIRECTORY, OUTPUT_DIRECTORY, file_name_regions_dict)"
   ]
  }
 ],
 "metadata": {
  "kernelspec": {
   "display_name": "Python [conda env:computer_vision]",
   "language": "python",
   "name": "conda-env-computer_vision-py"
  },
  "language_info": {
   "codemirror_mode": {
    "name": "ipython",
    "version": 3
   },
   "file_extension": ".py",
   "mimetype": "text/x-python",
   "name": "python",
   "nbconvert_exporter": "python",
   "pygments_lexer": "ipython3",
   "version": "3.8.8"
  }
 },
 "nbformat": 4,
 "nbformat_minor": 4
}
